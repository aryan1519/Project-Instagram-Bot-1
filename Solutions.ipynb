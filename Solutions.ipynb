{
 "cells": [
  {
   "cell_type": "code",
   "execution_count": 1,
   "metadata": {},
   "outputs": [],
   "source": [
    "# Importing Packages\n",
    "from selenium import webdriver\n",
    "from selenium.webdriver.common.by import By\n",
    "from selenium.webdriver.support.ui import WebDriverWait\n",
    "from selenium.webdriver.support import expected_conditions as EC\n",
    "import time\n",
    "from selenium.webdriver.chrome.options import Options\n",
    "from bs4 import BeautifulSoup\n",
    "\n",
    "\n",
    "# Disabling Chrome's Notification\n",
    "option = Options()\n",
    "option.add_argument(\"--disable-infobars\")\n",
    "option.add_argument(\"start-maximized\")\n",
    "option.add_argument(\"--disable-extensions\")\n",
    "option.add_experimental_option(\"prefs\", { \n",
    "    \"profile.default_content_setting_values.notifications\": 1 \n",
    "})"
   ]
  },
  {
   "cell_type": "code",
   "execution_count": 2,
   "metadata": {},
   "outputs": [],
   "source": [
    "# Creating a driver session\n",
    "\n",
    "driver = webdriver.Chrome(options=option,executable_path = 'chromedriver_win32\\chromedriver.exe')"
   ]
  },
  {
   "cell_type": "markdown",
   "metadata": {},
   "source": [
    "##### Q 1.) Login with your Instagram Handle.\n",
    "      "
   ]
  },
  {
   "cell_type": "markdown",
   "metadata": {},
   "source": [
    "##### Submit with sample username and password."
   ]
  },
  {
   "cell_type": "code",
   "execution_count": 3,
   "metadata": {},
   "outputs": [],
   "source": [
    "# Opening instagram.\n",
    "driver.get('https://instagram.com/')\n",
    "\n",
    "# Getting the username and password fields and clearing them if something is already typed.\n",
    "username = WebDriverWait(driver, 10).until(EC.presence_of_element_located((By.NAME, \"username\")))\n",
    "password = WebDriverWait(driver, 10).until(EC.presence_of_element_located((By.NAME, \"password\")))\n",
    "username.clear()\n",
    "password.clear()\n",
    "\n",
    "# Entering the username and password in the fields.\n",
    "username.send_keys('SAMPLE USERNAME')\n",
    "password.send_keys('SAMPLE PASSWORD')\n",
    "\n",
    "# Pressing the login button after the username and password have been entered.\n",
    "login = driver.find_elements_by_tag_name(\"button\")\n",
    "login[1].click()\n",
    "time.sleep(5)\n",
    "\n",
    "# Clicking the Not Now button.\n",
    "driver.find_element_by_xpath(\"//*[text()='Not Now']\").click()"
   ]
  },
  {
   "cell_type": "markdown",
   "metadata": {},
   "source": [
    "##### Q2.) Type for “food” in search bar and print all the names of the Instagram Handles that are displayed in list after typing “food”\n",
    "##### Note : Make sure to avoid printing hashtags"
   ]
  },
  {
   "cell_type": "code",
   "execution_count": 4,
   "metadata": {},
   "outputs": [
    {
     "name": "stdout",
     "output_type": "stream",
     "text": [
      "jewishfood\n",
      "yourfoodlab\n",
      "foodnetwork\n",
      "swadhasneha\n",
      "glassofwineforme\n",
      "foodgawker\n",
      "food\n",
      "weightloss.diet.hindi\n",
      "foodiesince96\n",
      "magazine_food\n",
      "disanofoods\n",
      "food_lover_journey\n",
      "eatlikeamaniac\n",
      "delhi_streets_food\n",
      "thisisdelhi\n",
      "foodinsider\n",
      "omgitsbomb\n",
      "the_foodie_dad\n",
      "food__junction\n",
      "thefood.vlogger\n",
      "indianfood_lovers\n",
      "food_food_delhi\n",
      "bhukkhadbybirth\n",
      "v_for_veggie\n",
      "foodiecouple_parvan\n",
      "paidaishi_foodie\n",
      "ekplate\n",
      "the_punjabi_foodie\n",
      "imtoocheesyforyou\n",
      "cruising_cuisine\n",
      "buzzforfood\n",
      "foodgod\n",
      "game_of_foodiez\n",
      "foodieoreoooo\n",
      "ourfoodpad\n",
      "foodiesafarii\n",
      "crittertank\n",
      "foody_israel\n",
      "foodoverworld\n",
      "hungryfortangri\n",
      "foodchrome\n",
      "delhi.foodgasm\n",
      "foodiesaand\n",
      "foodie.karan\n",
      "whaaatislife\n",
      "foodholic.delhi\n",
      "foodparadise.in\n",
      "food_maple05\n",
      "foodelhi\n",
      "foodypoonam\n",
      "thatdelhifoodiee\n",
      "tomiti_food\n",
      "worthytale\n",
      "foodbythegram\n",
      "foodie_incarnate\n"
     ]
    }
   ],
   "source": [
    "# Opening instagram.\n",
    "driver.get('https://instagram.com/')\n",
    "\n",
    "# Getting the search bbox clearing it and typing \"food\".\n",
    "search_box = driver.find_element_by_xpath(\"//input[@placeholder='Search']\")\n",
    "search_box.clear()\n",
    "search_box.send_keys(\"food\")\n",
    "\n",
    "# Getting the uderids visible just after typing \"food\".\n",
    "user_ids = WebDriverWait(driver, 10).until(EC.presence_of_all_elements_located((By.XPATH, \"//div[@class='fuqBx']//a\")))\n",
    "\n",
    "\n",
    "# Storing user_handles in a list .\n",
    "l = []\n",
    "for i in user_ids:\n",
    "    html = i.get_attribute('outerHTML')\n",
    "    data = BeautifulSoup(html,'html.parser').a['href'].split('/')[1]\n",
    "    if data!='explore':\n",
    "        l.append(data)\n",
    "\n",
    "# Printing user handles.\n",
    "for handle in l:\n",
    "    print(handle)"
   ]
  },
  {
   "cell_type": "markdown",
   "metadata": {},
   "source": [
    "##### Q3.) Searching and Opening a profile using"
   ]
  },
  {
   "cell_type": "markdown",
   "metadata": {},
   "source": [
    "##### Opening profile of \"So Delhi\"."
   ]
  },
  {
   "cell_type": "code",
   "execution_count": 5,
   "metadata": {},
   "outputs": [],
   "source": [
    "# Making a function which opens instagram (already logged in.) Then searches for the specified user_handle and opens it.\n",
    "# This function has been used several times in other questions too.\n",
    "def search_and_open(handle):\n",
    "    driver.get('https://instagram.com')\n",
    "    search_input = driver.find_element_by_xpath(\"//input[@placeholder='Search']\")\n",
    "    search_input.clear()\n",
    "    search_input.send_keys(handle)\n",
    "\n",
    "    user_id = WebDriverWait(driver,10).until(EC.presence_of_element_located((By.XPATH,'//div[@class=\"fuqBx\"]//a')))\n",
    "    user_id.click()\n",
    "    time.sleep(5)"
   ]
  },
  {
   "cell_type": "code",
   "execution_count": 6,
   "metadata": {},
   "outputs": [],
   "source": [
    "# Searching and opening \"So Delhi\" .\n",
    "search_and_open('So Delhi')"
   ]
  },
  {
   "cell_type": "markdown",
   "metadata": {},
   "source": [
    "##### Q4.) Follow/Unfollow given handle - \n",
    "##### Open the Instagram Handle of “So Delhi”\n",
    "##### Start following it. Print a message if you are already following\n",
    "##### After following, unfollow the instagram handle. Print a message if you have already unfollowed.\n"
   ]
  },
  {
   "cell_type": "code",
   "execution_count": 7,
   "metadata": {},
   "outputs": [],
   "source": [
    "# This function is used to follow the given instagram handle. It prints Started Following the Handle , if it has started following \n",
    "# and prints Already following the Handle if the handle is already followed.\n",
    "\n",
    "def followHandle(handle):\n",
    "    search_and_open(handle)\n",
    "\n",
    "    follow_button = driver.find_elements_by_xpath('//*[text()=\"Follow\"]')\n",
    "    \n",
    "    if len(follow_button) > 0 :\n",
    "        follow_button[0].click()\n",
    "        print(\"Started Following the Handle.\")\n",
    "    else :\n",
    "        print(\"Already following the Handle.\")"
   ]
  },
  {
   "cell_type": "code",
   "execution_count": 8,
   "metadata": {},
   "outputs": [],
   "source": [
    "# This function is used to unfollow the given instagram handle. It prints SUnfollowed the handle., if it has started unfollowed \n",
    "# and prints Handle already unfollowed. , if the handle is already unfollowed.\n",
    "\n",
    "\n",
    "def unfollowHandle(handle):\n",
    "    search_and_open(handle)\n",
    "    \n",
    "    follow_button = driver.find_elements_by_xpath('//*[text()=\"Follow\"]')\n",
    "    \n",
    "    if len(follow_button) > 0 :\n",
    "        print(\"Handle already unfollowed.\")\n",
    "    else :\n",
    "        following_button = driver.find_element_by_xpath('//button[starts-with(@class,\"_5f5mN\")]')\n",
    "        following_button.click()\n",
    "        \n",
    "        unfollow = driver.find_element_by_xpath('//*[text()=\"Unfollow\"]')\n",
    "        unfollow.click()\n",
    "        print('Unfollowed the handle.')\n",
    "    \n",
    "    "
   ]
  },
  {
   "cell_type": "code",
   "execution_count": 9,
   "metadata": {},
   "outputs": [
    {
     "name": "stdout",
     "output_type": "stream",
     "text": [
      "Started Following the Handle.\n"
     ]
    }
   ],
   "source": [
    "# Following So Delhi\n",
    "followHandle(\"So Delhi\")"
   ]
  },
  {
   "cell_type": "code",
   "execution_count": 10,
   "metadata": {},
   "outputs": [
    {
     "name": "stdout",
     "output_type": "stream",
     "text": [
      "Unfollowed the handle.\n"
     ]
    }
   ],
   "source": [
    "# Unfollowing So Delhi\n",
    "unfollowHandle(\"So Delhi\")"
   ]
  },
  {
   "cell_type": "markdown",
   "metadata": {},
   "source": [
    "##### Q5.) Like/Unlike posts\n",
    "##### Liking the top 30 posts of the ‘dilsefoodie'. Print message if you have already liked it.\n",
    "##### Unliking the top 30 posts of the ‘dilsefoodie’. Print message if you have already unliked it.\n"
   ]
  },
  {
   "cell_type": "code",
   "execution_count": 11,
   "metadata": {},
   "outputs": [],
   "source": [
    "# This function likes a post that is opened. It prints Liked the post. when it likes a post and prints Already liked if the post \n",
    "# is already liked.\n",
    "def likePost():\n",
    "   \n",
    "    like_button = WebDriverWait(driver,10).until(EC.presence_of_element_located((By.XPATH,\"//article/div/section/span/button[@class='wpO6b ']\")))\n",
    "    like_status = BeautifulSoup(like_button.get_attribute('innerHTML'),'html.parser').find('svg').get('aria-label')\n",
    "        \n",
    "    if like_status.strip() == 'Like':\n",
    "        like_button.click()\n",
    "        print('Liked the post.')\n",
    "    else :\n",
    "        print('Already liked.')\n",
    "\n",
    "# This function unlikes a post that is opened. It prints Unliked the post. when it unlikes a post and prints Already unliked \n",
    "# if the post is already unliked.\n",
    "def unlikePost():\n",
    "    unlike_button = WebDriverWait(driver,10).until(EC.presence_of_element_located((By.XPATH,\"//article/div/section/span/button[@class='wpO6b ']\")))\n",
    "    unlike_status = BeautifulSoup(unlike_button.get_attribute('innerHTML'),'html.parser').find('svg').get('aria-label')\n",
    "        \n",
    "    if unlike_status.strip() == 'Unlike':\n",
    "        unlike_button.click()\n",
    "        print('Unliked the post.')\n",
    "    else :\n",
    "        print('Already unliked.')\n",
    "    \n",
    "        \n",
    "# This function presses the next button to open the next post.        \n",
    "def nextPost():\n",
    "        next_post = WebDriverWait(driver,10).until(EC.presence_of_element_located((By.XPATH,\"//div/a[@class=' _65Bje  coreSpriteRightPaginationArrow']\")))\n",
    "        next_post.click()\n",
    "    \n",
    "    "
   ]
  },
  {
   "cell_type": "code",
   "execution_count": 12,
   "metadata": {},
   "outputs": [
    {
     "name": "stdout",
     "output_type": "stream",
     "text": [
      "Liked the post.\n",
      "Liked the post.\n",
      "Liked the post.\n",
      "Liked the post.\n",
      "Liked the post.\n",
      "Liked the post.\n",
      "Liked the post.\n",
      "Liked the post.\n",
      "Liked the post.\n",
      "Liked the post.\n",
      "Liked the post.\n",
      "Liked the post.\n",
      "Liked the post.\n",
      "Liked the post.\n",
      "Liked the post.\n",
      "Liked the post.\n",
      "Liked the post.\n",
      "Liked the post.\n",
      "Liked the post.\n",
      "Liked the post.\n",
      "Liked the post.\n",
      "Liked the post.\n",
      "Liked the post.\n",
      "Liked the post.\n",
      "Liked the post.\n",
      "Liked the post.\n",
      "Liked the post.\n",
      "Liked the post.\n",
      "Liked the post.\n",
      "Liked the post.\n"
     ]
    }
   ],
   "source": [
    "# Liking the first 30 posts\n",
    "\n",
    "# The user_id 'dilsefoodie' is opened\n",
    "search_and_open('dilsefoodie')\n",
    "\n",
    "# The first post is opened\n",
    "post1 = driver.find_element_by_class_name('_9AhH0')\n",
    "post1.click()\n",
    "time.sleep(5)\n",
    "\n",
    "# Then we loop and like the recent 30 posts by the user.\n",
    "for i in range(30):\n",
    "    \n",
    "    likePost()\n",
    "    time.sleep(3)\n",
    "    if i != 29:\n",
    "        nextPost()"
   ]
  },
  {
   "cell_type": "code",
   "execution_count": 14,
   "metadata": {},
   "outputs": [
    {
     "name": "stdout",
     "output_type": "stream",
     "text": [
      "Unliked the post.\n",
      "Unliked the post.\n",
      "Unliked the post.\n",
      "Unliked the post.\n",
      "Unliked the post.\n",
      "Unliked the post.\n",
      "Unliked the post.\n",
      "Unliked the post.\n",
      "Unliked the post.\n",
      "Unliked the post.\n",
      "Unliked the post.\n",
      "Unliked the post.\n",
      "Unliked the post.\n",
      "Unliked the post.\n",
      "Unliked the post.\n",
      "Unliked the post.\n",
      "Unliked the post.\n",
      "Unliked the post.\n",
      "Unliked the post.\n",
      "Unliked the post.\n",
      "Unliked the post.\n",
      "Unliked the post.\n",
      "Unliked the post.\n",
      "Unliked the post.\n",
      "Unliked the post.\n",
      "Unliked the post.\n",
      "Unliked the post.\n",
      "Unliked the post.\n",
      "Unliked the post.\n",
      "Unliked the post.\n"
     ]
    }
   ],
   "source": [
    "# Unliking the first 30 posts\n",
    "\n",
    "# The user_id 'dilsefoodie' is opened\n",
    "search_and_open('dilsefoodie')\n",
    "time.sleep(5)\n",
    "\n",
    "# The first post is opened\n",
    "post1 = driver.find_element_by_class_name('_9AhH0')\n",
    "post1.click()\n",
    "time.sleep(5)\n",
    "\n",
    "# Then we loop and unlike the recent 30 posts by the user.\n",
    "for i in range(30):\n",
    "    \n",
    "    unlikePost()\n",
    "    time.sleep(3)\n",
    "    if i != 29:\n",
    "        nextPost()"
   ]
  },
  {
   "cell_type": "markdown",
   "metadata": {},
   "source": [
    "##### Q6.) Extract list of followers\n",
    "##### Extract the usernames of the first 500 followers of ‘foodtalkindia’ and ‘sodelhi’.\n",
    "##### Now print all the followers of “foodtalkindia” that you are following but those who don’t follow you.\n"
   ]
  },
  {
   "cell_type": "code",
   "execution_count": 15,
   "metadata": {},
   "outputs": [],
   "source": [
    "# This function takes in two arguments, first if we want the list of followers or following according to the input \"followers\" or\n",
    "# \"following\" and the other is the user_id for which we will find these details.\n",
    "\n",
    "# This function returns a list of 500 user_ids of followers/following or all the followers/following if less than 500.\n",
    "def get_user_ids(follow_status,user_handle):\n",
    "    \n",
    "    search_and_open(user_handle)\n",
    "    \n",
    "    if(follow_status == 'followers'):   \n",
    "        driver.find_element_by_xpath('//*[@id=\"react-root\"]/section/main/div/header/section/ul/li[2]/a').click()\n",
    "        \n",
    "    elif(follow_status == 'following'):\n",
    "        driver.find_element_by_xpath('//*[@id=\"react-root\"]/section/main/div/header/section/ul/li[3]/a').click()\n",
    "        \n",
    "    else :\n",
    "        return []\n",
    "\n",
    "    current_height = 0\n",
    "    i = 0\n",
    "    while True:\n",
    "        try:\n",
    "            prev_height = current_height\n",
    "            current_height = driver.execute_script('return document.querySelector(\".isgrP\").scrollHeight;')\n",
    "            driver.execute_script('document.querySelector(\".isgrP\").scrollTo(0,arguments[0]);',current_height)\n",
    "            time.sleep(1)\n",
    "            \n",
    "            if prev_height==current_height:\n",
    "                break\n",
    "                \n",
    "            i+=5\n",
    "            if i==500:\n",
    "                break\n",
    "        except:\n",
    "            break\n",
    "\n",
    "    time.sleep(2)\n",
    "    user_ids = []\n",
    "    followers = driver.find_elements_by_class_name('d7ByH')\n",
    "        \n",
    "\n",
    "    for user_id in followers[:500]:\n",
    "        user_id = BeautifulSoup(user_id.find_element_by_tag_name('a').get_attribute('outerHTML'),'html.parser')\n",
    "        user_ids.append(user_id.a.get('title'))\n",
    "\n",
    "    driver.back()\n",
    "    return user_ids"
   ]
  },
  {
   "cell_type": "code",
   "execution_count": 16,
   "metadata": {},
   "outputs": [
    {
     "name": "stdout",
     "output_type": "stream",
     "text": [
      " 500 followers of foodtalkindia are:-\n",
      "\n",
      "['ram_aru', 'foodsmates.in', 'cchamint', 'shwetaagr', 'miss.nehu__88', 'udeshijigna', 'biswajit_ballav', 'saumya240000', 'i.m_shrawan.suthar', 'wasimpathan1238', 'anusha_gupta', 'ashimachetan', 'official_amreen_259', 'sassyfork.se', 'darpansinghrathore', 'priy670', 'food_mijaz', '_confused_alien', 'jatinrajput102410', '7.sages', 'abhikansha1', 'tejaswi__creations', 'ms.mi3', 'kashishdendona', 'ritakant65', 'soubhagya_behera__', 'vish_to_mi', '__bon._.appetit__', 'nafiyaskitchen', 'mm5828444', 'sippinoncoldbrew', 'jas_artwork1501', 'toc_foods._', 'indernamdev5911', 'mr_adi09', 'sethi.ashna', 'chouvandan', '_imainak_roy_', 'laziz_by_shaheda', 'tyuf74', '_weapon_sunil_', 'manikanta_banala', 'nikhilgaikwad409', 'namma_adda_', 'maach_bhate_bangali', 'delightcollections01', 'swagmywayofficial', 'nupursin', 'amaan_khan_047', 'sush0nt', 'bass._beatz', 'table_lust', 'yashmalik.685', 'sajidbabu02', 'vridhijainn', 'writerbydesign', 'chaitraliparalkar', 'sonakumar8889', 'farhanaz_oberoi', 'dcaza_restro', 'apli_khau_galli', 'tanvidube', 'anirudhbsaha', 'homemade.sizzle', 'c_k_s_c_h_a_n_d_a_n', 'akansha_thecreativer', 'thebeerbaba', 'alexander3451221', 'bhanuspices', 'cocochilldelhi', 'anjoy9500', 'bakedwithlove706', 'rrajpa', 'siddheshwadke', '__.hypnosis.__', 'gauravbarmn', 'jagan_jb_naidu', '_taste._.hyderabad_', 'foodland2307', 'glamas.shoppe', 'm.r_a.m.a.n_', 's.k_soyal', 'raghav_pant_', 'souravpramanick47', 'vyushg', 'prateekd.97', 'kanyabharathi617', 'mr_x_rajput5215', '_phalange_regina_', 'twinkle.mahajan', 'devil.rrr47', 'sgwomenscreativelife', 'thefoodiefashionista12', 'gagan0072', 'ajaka185', 'idreamoflowers', 'its_me_with_my_funny_jokes', 'bhukad_traveller', 'deephues', 'ashit_clicks_sometimes', 'sainitarundeep', 'sabz_zaika', 'pramod_pawar_official_001', 'khanaakhazana', 'kynakavita', 'abhishekhsingh', 'x_badboy__07', 'nahidashaik_445', 'beardmanguitarman', 'diez.1202', 'kanel.kuldeep', 'mohd_toheed_', 'vivaovivagoa', 'mangukiyanihal03', 'ritz_dey', 'priy_nka333', '_dstylestudio_', 'xll_xx_harsh_kerketta_xx_llx', 'the_freshfood', 'arjun_narang10', 'bips_saycheez', 'khatri_rashi', 'info.samosaz', '_ll_suraj.kant_ll_', 'muhafizms', 'manankapur', 'naziha_djemel', 'pupz_creations', 'moshahal', 'sumitkuril786', 'mallufoodjunkies', 'uzmaahmad12', 'yumyumm_in_my_tumtum', 'sohil795khan', 'rahulroshan20', 'mahimakathuria', 'shillong_food_hub', 'therosemarylife', 'chouhanmeenu28', 'divyanshthakurindian.45848', 'allahabadi_foodiegirl_eshu', 'akanksha_pal1919', 'harsora__0314', 'mr_watercolour', 'pixelsshutter', 'realityofyum', 'therenowmark', 'dhpatel_online', 'bahadarkayani', 'roadtosriheart', 'md_abid_model', 'masekonazinnomkhuleko', 'vvasanthd', '_mylovelymess_', 'md_asad_chodhary', 'divyansh_yadav_dehgaon', 'vishww', 'hamishrishu', 'rajakalra', 'himanshug1', 'sanjivani5711', 'ms.03031991', 'mansikodwani11', 'ioi_beats', 'advitaa', 'priyabhoria', 'worldbywal', 'thodu_hasi_loo', 'tanisssha.__', 'dvija.dhagia', 'pramod.sonule.75', 'pasande.diaries', 'laksh329chef', 'happysinghal45', 'lazizpizza_india', 'pree_t5717', 'refectionsthejuicebar', 'mirha5959', 'al_bismillah_biriyani', 'vasudhaksgupta', 'ashhdeshh', 'foodandfashion5', 'narain.dhaliwal_', 'i_am_prathit2004', 'mansis.k6', 'yashnayyar', 'housie_clothes', 'yankeesfrozenfood', 'the_official.tusharsaha', 'rajniworkshop', 'indiafashionclub', 'mr.jugaad_chef', 'its_malik70', 'xxjustxxtansxx', 'akshay_arrth', 'imr_syed', 'rajroy7465', 'chaahlove', 'radhikaksodha', 'salt.matters', 'dilhifoodie', 'theetlrblog', 'komathi.balakrishnan', 'pufnisar', 'sneha1776', 'radhikaj65728', 'sanagrover5', 'suryakumar____93', 'food.for.delight', 'sravya_tan', 'shabaz_khan_89', 'mdnazimking', 'master_foodienator', 'flywithkrishna', 'the_hungrystation', 'chandra.prakash0806', 'vickytahalani', 'nanuchef_333', 'sonalikitchen', 'prachirungta14', 'nagarajpalyam', 'shahid_pandit_', 'srdeshmukh31', 'ji.bhagirath', '_sahilbhatia_', 'vvishu480', 'nayanikatenneti', 'xx__firdosh__9x', 'its.dhaliwal.0001', 'aman_photography03', '_find72', 'simran.khurana.58', 'mohi_mk_', 'annie_ghosh', '_rohan__8737', '_cakeshack_', 'sameer_0701', 'bigbingeco', 'shriramb08', 'sofiya_mukhia', 'tinakeshwanii', 'fitxmy3', 'faisalabass747', 'hyderabadi___dhamaal', 'iadii___', 'yoyohoneyshingh_', 'policefan.1', 'akshaykushwaha8283', 'kitchenlover28', 'lakhnbamniya', 'dibyendug', 'snehagabrielagomes', 'kamali__yadav_', 'nishfas.kitchen', '1y_6k', 'plants_travel_food_life', 'amyth04', 'apocalypse.beyonder', 'sunnys2438', 'restaurantemanu', 'gorakhpurjunction', 'runalidolkar', 'reshma2399', 'youpick.in', 'hebashakeeb95', 'food_e_sisters_', 'shehdjsys', 'foodietycoon', 'divya.nebhnani', 'vidhichadha', 'sushmaas_kitchen', 'befoodie_more', 'supriyaguptarocks', 'ookaradio', 'rishi9871thakkar', 'rakshith_gowda_g', '_exploretolearn_', 'architanand_', 'prajaktathakare', 'hyderabaditales', 'priyasfatafatadukkala', '__.i.s.h.u_', 'new_taj_car_washing_7773', 'sonu__bhilala___605_', 'shabrirestaurants', 'nonamenoaah', 'thelivingdish', 'ajay_chi_ku', 'ishmeet_04', 'explore.beautyof.india', 'papal_misal', 'cowboy0069', 'hoteldeewanregency', 'fitnessandwellbeing001', 'lifeline_208', 'pia.pressure', 'sanvisantho', 'rupsa1986', 'clbrijesh', 'arbaaj_d_king', 'punjabigali2020', 'a_19_0', 'ramchandra_bhogale_', 'shwetagupta0419', 'basic_study_with_khan', 'higlights_of_morena', 'theoldestcity', 'fitr_official', 'gholapbiryanis', 'amirnanda0', 'deepamahajan99', '85bit_a', 'its_jarnailpb39', 'foodvisualiser', 'raginikumar', 'saman_1111___', 'armin.asadi20', 'armaanraeeszada', 'truck_gaming_channal_', 'meetandeat_by_shinjima', 'pradeepushankar', 'shubhambhirani', 'p_varad_', 'rohitsharma.91', 'ankitadugarjain', 'aanya.k95', 'abhay.gautam93', 'daman.jolly', 'kindlife.in', 'the.ramenproject', 'sunshine.virgo16', 'vikash.cb', 'doxy_2002', 'openlyinsane', 'papercutscissors', 'sanjay_chib', 'ig_____k_in_g', 'rithvikkumar14', 'food_blog_rupashree', 'shyam.patel.984991', 'umar_gada_official', 'mr.amarjeetsr', 'mayanksharma702', 'cookiee_n_kreem', 'foodryk', 'kavya_770', 'basantchawla', 'fast_foodfashiontravel', 'trevs_world_eats', 'foxybarak', 'harsha_unconditional', 'assal_ghrchi_chav', 'narendraaghora', 'sagrikaa_bansal', 'md_s.a.h.i.l___00', 'hridyaexplorer', 'thefoodiecrush2020', 'simply_unique_1', 'sethritik281', 'artwitheunoiaa', 'kitchen_jungle_10', 'traveller_theexplorer', 'its_me_vicky21', 'trivenikulkarni', 'saqib.sanki.18', 'atul_bakery_chhota_udepur', '_______.v_i_s_h_a_l', 'alamnawaz08', 'lets_save_as', 'srinath_kandur', '_king_anurag_v', 'lullabyandcatnip', 'drautindia', 'gourmetburgerhouse', 'xoxocaterers', 'soutrickpaick', 'researchpage.in', 'mist_yeyedgirl', 'mayu_7487', 'najir_behlim_04', 'mehendi_by_farhat', 'prettylittleliars150fan', 'ssree.lakshmii', 'gurmeet.sareen', 'tanya_desouza', 'food_conquest', 'goaerathe', 'shilpaaa_kanchitota', 'eeshaluthra', 'thenomnomeaters', 'sheldonhealy', '_picstar__', 'huntbabes', 'official_shubham_gupta_10', 'sud_ritu', 'classictradelinks', '_sfina.shaikh.143', 'prajwal8321', 'mehtanimesh', 'ahamyd', 'nirpal_kaur3301', 'chinmay969', 'somthing.delicious', 'mysweetapron', 'harshi_jodhpur', 'manitasingh1', 'jabi8322', 'official_maniya_surve8100', 'bhole.sing', 'the_royaldining', 'khushboomehra', 'lokeshraj156', 'caboosex_restrobar', 'shivin_momo_love_.50', 'im_zippo_98', 'piyali_chakraborty13', 'ranjani_kannan1998', 'kishorkjj', 'kukrejanisha', '_.hanayaaa._', 'prashant_gawade_apratim_photo', 'food.loves_us', 'greenysalad_live', 'jack_harry_2000', 'lalitmehta643', 'liberal_chef', 'sriku0559', 'vikas_66776', 'kakadrakel_', 'gaaba1092', 'prithvibanerjee', 'akifpathan2020', 'ckapasi', 'atulbakery_manjalpur', 'ds.bakehouse', 'astrologer_abdul_razak', 'pan_apron', 'bhuvanop8879', 'aastha_sharma11', 'mr.potoba', 'scoutingbubbles', 'saaaaksh', 'ichigo_sutairu', 'delhii_foodies', 'nikhil129', 'silvercoin_atta', 'shekharmalhotra', 'bangtanindiamp', 'kangscookingcorner', 'nicax17', 'spider___lover', 'saloniseh', '_khaadya_padarth', '_.deliciousness._', 'mahajan_2271', 'magic_uchiha', 'scooby__the__beagle', 'onionhaesaiyo', 'flame_recipes', 'vikas90sharma', 'kit.chen07', 'avanibabar', 'ghoshpritam2747', 'sachingarg1812', 'kishorekumar.chavan.75', 'kvyr1514', 'arya_anoop_tyson', 'storiesbyrahulbhavya', 'mohokartrupti', 'summer.of.flavours', 'aashima.verma', 'divyanshutak2', 'samreen43', 'queen_sonal_7', 'dhara__vyas', 'kbs373n', 'wokface.com_', 'safina9659', 'prestige_baker', 'local_gg', 'priyazohmai', 'immaculate_kannadiga', 'saikat6101', 'twist_of_jubaida', 'vedikavats', 'prabhakaransajith', 'zeeshanali855', 'draishwaryafating', 'mishra_aniket', 'favoritefoodies20', 'preciouspearl1740', 'vanshikagargofficial', 'ansarishahbaz424', 'pooja_roshan', 'ghaemi_512', 'somaroy1974', 'offical_jatt_mehkmaa', '2broke_foodies', 'otoriariaw9v', 'mahakal_shivanshjaiswalmafia']\n"
     ]
    },
    {
     "name": "stdout",
     "output_type": "stream",
     "text": [
      "\n",
      " 500 followers of sodelhi are:-\n",
      "\n",
      "['anen.nen9', 'shobhitsingh_', 'umam_zaman', 'samxxr.pvt', 'travelstory785', 'motivation_hub_0123', 'surbhi.khushu', 'pearl.fotedar', 'dalwaniriya', 'thaikurryy', 'rishabhbist', 'hypnocladx', 'yashi_sharmaa', 'ayushsen0003', 'singh.mmayank', 'ghaninarang', 'mohamed__morocco__officiel', 'itz_aamir_09_', 'gauravpratapsinghkushinager', 'kanishq_basoya_dellhii0001', 'redlotuswhitelily', 'itsanjalikushwaha', 'mayanksachdeva04', 'sonakshiasthana', '_.shruti_.xo', 'sureshpalc', 'harshul.hb', 'sahil.sharma797', 'kashishswaraj', 'mairaa_vij', 'ayushbajoria27', 'rahul.panwar.7393', 'the_foodies_pageee', 'vvartika_', 'peeyush_handa', '18.vasu', 'jessikapatil', 'harsheeta._', 'aayu__61', 'ta.nia5733', 'anubhatiya071', '_asmitajindal_', 'simpal.tipu', 'rismamelati39', 'archanamohta135', 'radhikasukhijaa', 'abhayranjanmishra7', 'akshay.ghanghas', 'nirbhay0033', 'aditiisharmaa__', 'jayantkumarjrj', 'aastha_dhankar', 'kamlamrit', 'rohityadav31', 'ocular_blitz', 'shivani.sharmaa.__', 'kavya_dixit9', 'shii_pvt', 'ichha_anand', 'rixhi786', 'parveengehl', 'i_am_manali.t', 'pragggg_', 'ruchi097', 'sonali06977', 'smilbassma', 'ritikasankhla', 'see_man_see', 'geeta_akarnia23', 'malvikagosain', 'sidhantmatreja', 'singhnaveen90', 'sui_generis_nks', 'madlynbykanika', '_elenasingh', 'nectarainstadiaries', 'filmychef', 'amba_k10', 'nishisaini36', 'waseemraja7322', 'anjali_belwal17', 'wanderwithnishu', 'gauravgoel.zzz', 'tharki_ladka33', 'ajeetkumaryadav792', 'ankitajain3003', 'manasi94', 'miss_travelbuff', 'renn_u7', 'thefadchic', 'pintu.seni.923', 'pravanshh_', 'shubham__sr4', 'riyaroy4609', 'raneej82', 'sakshisarinn', 'ayushiagg000', 'pria_jaiswal', 'jas_artwork1501', 'anushi__agarwal', 'navraj54', 'altaf_headman07', 'nishu_jain0157', 'mr_adi09', 'skjsanskriti', 'piyushmehta23', 'divikamath', 'doctor.anuj7', '_colors.and.me_', 'bhavnaaah', 'officialevadandona', 'khushboo.ali', '_.thisissodope._', 'offers_coupons_deals', 'fursat_ki_chai', 'sauddilwale4849', 's.gup_', 'nandini_28', 'anuragsinghal03', 'vish_to_mi', 'manpreetmangatt', 'niza_rr_', 'adhirajsegel', 'subhashreedwivedy', '123knockstar', '__sameer_asif_mansoori_', 'janvi_singh_chaudhary', '1212jayesh', 'ahran.khan.1481', 'krishna1220g', 'its_aman__09', 'richa.choudhary19', '_arushimittal_', 'unendingtv', 'parul_1105', 'mohammadsalamat8', 'framesby3idiots', 'swagmywayofficial', 'milqooz.cafe', 'azhar.tqr', 'atinhanduja', 'creativeart_by_rushda', 'mature4u', '_upsc_all_about22', 'pooji_773', '9bagatiba', 'divyanshiiguptaa', 'kirtijain95', 'lifeisnowexpeditions', 'ishhsuri', 'shahjatin6', 'neeharika_k_', 'pari.parikumari.1426', 'aforanshu', 'thelostsoulofwanderer', 'subhakichai', 'designbuild000', '31mg_', 'paruchuribujji', 'adu_a9537', 'max_relax923', 'suesvegankitchen', 'anshul05jain', 'rohitha.24', 'samny595', 'ee222re', 'nikhilrawat62', 'vishal_g75', 'chou.dharysahab123', '_.sararaaa._', 'hussainahmad6067', 'ravi.pandeyyy', 'i.meghaanand', 'atravelsoul______', 'swapniljaiu', 'rishjsingh', 'richuparker', 'su___kriti', 'blogitupwith_shrishti', 'mk_advertising6', 'delhigastronauts', 'babita.sardana.16', 'abhishekvashisth97', 'himani.madhok', 'nishants23', 'amerali5763', 'pratimabala', 'priyanka_9_sharma', '_witaman_', 'serendipity.divs', 'jain.aayush', 'raj5060roy', 'house_of_slices', 'wander___14', 'priys_14', 'mustafa.ahm_d', 'deepika_behl', 'harshita_tailang', 'ashutosh._singh._', 'rohatgi.isha', 'nidhi.7678', 'i_am_bhavyaa', 'jiyabanswal', 'tinacarnegie', 'smitharshit', 'anjumaneesa', 'ishika_satija', 'raman_bindra', 'faisal.1072', 'shivu_0797', 'beingaslamk', 'iam_ankurgupta', '_mysterious.soul', 'jauntyfoodi3', 'azhar.sid', 'swatidimri568', 'singhashwin94', '_nagardeepa', 'nurlanibraew123', 'xboyabhay', 'kunal_k001', 'aishaa21', 'rishavrajarajput', 'big_n_bite', 'sheetalvarma__', 'siddiquimantasha870', 'a_me_nee', 'that.boho.lad', 'rohan_8667', 'study.vogue', 'witchyprincess.2492', 'high.ra__', 'navneedhi_', 'barinder____singh', 'shivam.malhotra.5', 'mmmmanooo', 'ruchikaairy', 'madovermealss', 'lets.get.high__', 'neha_chauhan_216', 'aarvei', 'glamas.shoppe', 'd._mehak', 'ht0007', 'jiya_nasreen', 'webinarstores', '_swathigwda_', 'ig_anvika', 'angle._.tammy', 'kandwal_shruti', 'prateekkjoshi', 'jain78184', 'paras_tayal', 'abhilasha_tewari', 'anubhavchandel', 'parth.arjun14', 'vipul_gupta_5555', 'zaya_bakers', 'your_quotation', 'bhawanaaaa_', 'mayurshukla1', 'waaaaaaasif', 'rajamajid820', 'shre_ya6902', 'enniesharma.007', '_sheena.bhatia_', 'xx_its_parvez_salmani_xx', 'mithunkaul', 'rajni_soie', 'deeptigupta9231', 'chaloeventskartehai', 'gauri_0828', 'abha_pal', 'piyush_thakur0', 'zeina.hassan04', 'nnehasachdeva', 'annika.jaiswal', 'saatvik.aggarwal', 'abigel_jinny', 'gaur_sourav', 'food_and_hum', 'khaopeeyo_aishkaro_mitro', 'shreyamahaldar22', 'nasreen4783', 'sharmavinayak13', 'kunal_2312_', 'abhigyanquotes', 'toten_403', 'kkritisachdeva', 'rajivkashyaprajukumar', 'yadavveenaaa123', '_gautamguru_', 'chahat_thi_teri', 'priyadeol13', 'meenakari_banaras', '_tanya1006', 'sndpsc', 'ruqayya.saifi.3', 'vivekyxdxv', 'ambi9320', 'tanwar.rishabh0', 'awnisalodiya008', 'kat_niki15', 'kalash_aggarwal', 'mohini.varma.1213986', 'nij_kumar', 'ritu_kapoor17', 'rawat.anuj13', 'zingy.jane', 'gifting_in_style6', 'ankee16241', '2815.suraj', '_dactylion__', 'akshaybajaj16', 'mp_bamotra', 'raw_sun203', 'shubhranoor', 'hamzakhan27', 'sualeha__', '_d.e.v.a.d.a.s.s._.j.a.c.o.b_', 'you_know_wh0198', 'mystic_mithi25', 'greenblade.design', 'sinmoyeee__', 'words_atom', 'branderayz', 'luckychopra46', 'ambika.saharan', 'dilwalokicapital', 'somehowrobin', 'iammalik69', 'second.senior', 'salman_khan_mo', 'vishnu.batra', 'its__neeraj__offcial__rj27', 'surenderkumar8778', 'prreitkamal', 'stardust_25', 'surekaraghav', 'p_r_a_g_n_y_a_', 'sayanbera5', 'sukhsingh22', 'mo_misbah1', 'studio111filmsdelhi', '_bhonda_', 'aniketa_97', 'ankitbidhurii', 'surya.saxena2020', 'harshitgulia02', '_atif_khan1', 'ruchigoswami98', 'manishakhurana01', 'urvisharma_003', 'im_ur_dj_bintul_official', 'ritwikbaranwal25', '_saugata._', 'jessika.thacker', 'homonotsapien', 'rainirusham', 'akhtarnazish872', 'zeba_firdos', 'sampada_singhal', 'sidhsaini78', 'ridhs0987', 'abhitanwar.13', 'sarvjeet_chahal_', 'sunflowerr_07', 'dd_foodstudio18', 'jiyakhan7277', '___sunny__o1', 'aditiiiii_98', 'thejitendra_dubey', 'rahul_mehta1', 'ishaltdie', 'raisse_nutri', 'surender.malhotraa', 'foddie_indian_mumbai', 'gourav.lakhanpal', 'aastha000', 'rajatbhallaofficial', 'bhardwajrupal7', 'imvaishi', 'aftabkhan4171', 'mr.daarrr', 'harkaran08', 'shubhpreetkalsi', 'jiya_suman_jiya', 'mansidugar_', 'iammirzatalha', 'riodew20', 'djshubz', 'paulsahil024', 'rovhityadav', 'deepankar_mandloi', '_mokshasharma', 'ramkumarram2928', 'divyanktiwari08', 'ghosto_o123', 'jainsahab.rahul', 'saksheee12', 'nikitac0101', 'priteesh_', 'sahelwk__', 'aa_3010_', 'charanpreetsingh_', 'shop___cart', 'mahtbarao', 'taalash.mein', '_ravichauhan________', 'charunarang685', '_shivani2109', 'ham.singh.5201', 'rahul.t.ayal', 'mannatwaraich89', 'engineer_who_survived', 'ru_chik_a', '_gauri_gill_', 'danknecessity', 'shubbhum18', 'set_ur_style', 'harsh_kangra01', 'ritunysha', '_._.luci._', 'manvik09', 'satanswrathchild', 'nabeelxahmed', 'priyanka_gupta1992', 'ashbala_lilly', 'nikitawadhwani40', 'kartmiik', 'mayankchauhan4u', 'my.warm.little.heart', 'shivam_g97', 'sheetal_s_lens', 'backpackerbatra', 'vatsria010', 'srivastava.ria03', 'p_o_s_w_a_l', 'abhikalppratapsingh', 'vilson.santos.92560281', 'ketanbirsharma', 'sunnyrajput1221', 'dev.editography', 'anu_shka05', 'nikit.mand', 'asanassaifi', 'ankushkalra01', 'arslan_angel17', 'punni1011', 'me.and.bandhu', 'sonipalak18', 'poojaslife1', 'ravinder.rana.83', 'magpie1inspire', 'sukhmanisachdeva', 'mansichaubey56', 'dishakarmakar', 'vedanta.panchal', 'connoisseur_offood', 'amitranaaaa', 'cabathlajasmeet', 'khushboomehra', 'azizul4540', 'bhavnakhao', 'manyaphalswal', 'anushakhanna88', 'garima_mahajan10', 'jyotsnasahaii', 'smruti_pragyan_ray', 'kubra.akyuz', 'kriti_kathuria', '___mr__swaag__0098', 'flavorsofchennai', 'svbhatia95', 'agupta01011985', 'kashifpathan170', '_n.iii.sh_', 'shrutisachdevaa', 'punjabankuddii', 'dhruv_pandit_', 'prash3831', 'fabsnava', '_justforthefuckofit', 'vaibhavgupta_1', 'parul.chawla12', 'quotesbymanisha', 'therosemarylife', 'kubra_sara_eren', 'diivya__21', 'seemasingh2704', 'kartik_chopra_', 'jaideep_panwar_0009', 'rouf___wani', 'muhammadhuzaifa545', 'shashirock89045', 'akankshaty_', '_mansheelagarwal_', 'the_safarist', 'dixita.sablania14', 'alex_sourav_2k']\n"
     ]
    },
    {
     "name": "stdout",
     "output_type": "stream",
     "text": [
      "\n",
      " user_id of people who follow foodtalkindia , who I follow but they dont follow back.\n"
     ]
    }
   ],
   "source": [
    "# We get the list of 500 followers of foodtalkindia and we print the list.\n",
    "foodtalkindia_followers = get_user_ids(\"followers\",\"foodtalkindia\")\n",
    "time.sleep(3)\n",
    "print(\" 500 followers of foodtalkindia are:-\\n\")\n",
    "print(foodtalkindia_followers)\n",
    "\n",
    "# We get the list of 500 followers of sodelhi and we print the list.\n",
    "sodelhi_followers = get_user_ids(\"followers\",\"sodelhi\")\n",
    "time.sleep(3)\n",
    "print(\"\\n 500 followers of sodelhi are:-\\n\")\n",
    "print(sodelhi_followers)\n",
    "\n",
    "# We get the list of 500 followers of our profile or all if followers are less than 500.\n",
    "my_followers = get_user_ids(\"followers\",\"SAMPLE USERNAME\")\n",
    "time.sleep(3)\n",
    "\n",
    "# We get the list of 500 users we follow or all if user_ids if they are less than 500.\n",
    "i_am_following = get_user_ids(\"following\",\"SAMPLE USERNAME\")\n",
    "time.sleep(3)\n",
    "\n",
    "# We then print all the users who follow foodtalkindia , who we follow but they dont follow us back.\n",
    "print('\\n user_id of people who follow foodtalkindia , who I follow but they dont follow back.')\n",
    "for user_id in i_am_following:\n",
    "    if user_id in foodtalkindia_followers and user_id not in my_followers:\n",
    "        print(user_id)\n"
   ]
  },
  {
   "cell_type": "markdown",
   "metadata": {},
   "source": [
    "##### Q7.) Check the story of ‘coding.ninjas’. Consider the following Scenarios and print error messages accordingly -\n",
    "##### If You have already seen the story.\n",
    "##### Or The user has no story.\n",
    "##### Or View the story if not yet seen.\n"
   ]
  },
  {
   "cell_type": "code",
   "execution_count": 17,
   "metadata": {},
   "outputs": [],
   "source": [
    "# This is a function which sees the story of a given instagram user. \n",
    "# If the user has a story and we have not seen it, it sees the story and prints \"Seeing story.\"\n",
    "# If the user has a story and we have seen it , it does'nt see the story and prints \"Already seen the story.\"\n",
    "# If the user does not have a story,it print \"No story available.\"\n",
    "\n",
    "def seeStory(handle):   \n",
    "    search_and_open(handle)\n",
    "    time.sleep(5)\n",
    "    story = driver.find_element_by_xpath('//*[@id=\"react-root\"]/section/main/div/header/div/div/canvas')\n",
    "    \n",
    "    height = story.get_attribute('height')\n",
    "\n",
    "    if height == '208' :\n",
    "        print(\"Already seen the story.\")\n",
    "    else:\n",
    "        check = driver.find_elements_by_xpath(\"//div[@class='RR-M- h5uC0']\")\n",
    "        if len(check) > 0 :   \n",
    "            check[0].click()\n",
    "            print(\"Seeing story.\")\n",
    "        else :\n",
    "            print(\"No story available.\")\n",
    "\n",
    "        "
   ]
  },
  {
   "cell_type": "code",
   "execution_count": 18,
   "metadata": {},
   "outputs": [
    {
     "name": "stdout",
     "output_type": "stream",
     "text": [
      "Seeing story.\n"
     ]
    }
   ],
   "source": [
    "# Seeing coding.ninjas 's story.\n",
    "seeStory('coding.ninjas')"
   ]
  }
 ],
 "metadata": {
  "kernelspec": {
   "display_name": "Python 3",
   "language": "python",
   "name": "python3"
  },
  "language_info": {
   "codemirror_mode": {
    "name": "ipython",
    "version": 3
   },
   "file_extension": ".py",
   "mimetype": "text/x-python",
   "name": "python",
   "nbconvert_exporter": "python",
   "pygments_lexer": "ipython3",
   "version": "3.8.5"
  }
 },
 "nbformat": 4,
 "nbformat_minor": 4
}
